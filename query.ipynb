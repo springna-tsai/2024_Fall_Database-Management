{
 "cells": [
  {
   "cell_type": "markdown",
   "metadata": {},
   "source": [
    "#### Import"
   ]
  },
  {
   "cell_type": "code",
   "execution_count": 1,
   "metadata": {},
   "outputs": [],
   "source": [
    "import duckdb\n",
    "con = duckdb.connect('data.db')"
   ]
  },
  {
   "cell_type": "code",
   "execution_count": 2,
   "metadata": {},
   "outputs": [
    {
     "data": {
      "text/plain": [
       "┌─────────────────────────────┐\n",
       "│            name             │\n",
       "│           varchar           │\n",
       "├─────────────────────────────┤\n",
       "│ Bus_Stop_Info               │\n",
       "│ Business_Operation          │\n",
       "│ MRT_Business_Area           │\n",
       "│ MRT_Event                   │\n",
       "│ MRT_Flow_Record             │\n",
       "│ MRT_Station_Info            │\n",
       "│ Representative              │\n",
       "│ Shop_Rental_Listing         │\n",
       "│ Ubike_Station_Info          │\n",
       "│ Ubike_Station_Rental_Record │\n",
       "│ Village_Info                │\n",
       "│ Village_Population_By_Age   │\n",
       "├─────────────────────────────┤\n",
       "│           12 rows           │\n",
       "└─────────────────────────────┘"
      ]
     },
     "execution_count": 2,
     "metadata": {},
     "output_type": "execute_result"
    }
   ],
   "source": [
    "# show table\n",
    "con.sql('show tables')"
   ]
  },
  {
   "cell_type": "markdown",
   "metadata": {},
   "source": [
    "## 查詢周邊商圈、租房資訊"
   ]
  },
  {
   "cell_type": "markdown",
   "metadata": {},
   "source": [
    "### 商圈平均租金以及周邊捷運站"
   ]
  },
  {
   "cell_type": "code",
   "execution_count": 3,
   "metadata": {},
   "outputs": [
    {
     "data": {
      "text/plain": [
       "┌────────────────────────┬──────────────────────┬──────────────┬──────────┬──────────┐\n",
       "│          name          │ average_monthly_rent │ station_name │   tag    │ district │\n",
       "│        varchar         │        double        │   varchar    │ varchar  │ varchar  │\n",
       "├────────────────────────┼──────────────────────┼──────────────┼──────────┼──────────┤\n",
       "│ 條通(商圈)             │             183482.0 │ 中山         │ 吃在商圈 │ 中山區   │\n",
       "│ 晶華酒店、欣欣百貨周邊 │             183482.0 │ 中山         │ 玩在商圈 │ 中山區   │\n",
       "│ 中山捷運站周邊         │             183482.0 │ 中山         │ 買在商圈 │ 中山區   │\n",
       "│ 中山北路婚紗(商圈)     │             183482.0 │ 中山         │ 玩在商圈 │ 中山區   │\n",
       "│ 赤峰街 (商圈)          │             183482.0 │ 中山         │ 玩在商圈 │ 中山區   │\n",
       "│ 朝陽服飾材料(商圈)     │             183482.0 │ 中山         │ 買在商圈 │ 中山區   │\n",
       "│ 中山國中捷運站周邊     │             172210.0 │ 中山國中     │ 吃在商圈 │ 中山區   │\n",
       "│ 大直(商圈)             │             252600.0 │ 劍南路       │ 玩在商圈 │ 中山區   │\n",
       "│ 南京復興捷運站周邊     │             268530.0 │ 南京復興     │ 吃在商圈 │ 中山區   │\n",
       "│ 華陰街(商圈)           │             152500.0 │ 台北車站     │ 買在商圈 │ 中山區   │\n",
       "│      ·                 │                 ·    │  ·           │    ·     │   ·      │\n",
       "│      ·                 │                 ·    │  ·           │    ·     │   ·      │\n",
       "│      ·                 │                 ·    │  ·           │    ·     │   ·      │\n",
       "│ 北門相機(商圈)         │             272750.0 │ 西門         │ 玩在商圈 │ 萬華區   │\n",
       "│ 中華路影音(商圈)       │             272750.0 │ 西門         │ 買在商圈 │ 萬華區   │\n",
       "│ 榮町(商圈)             │             272750.0 │ 西門         │ 玩在商圈 │ 萬華區   │\n",
       "│ 沅陵街(商圈)           │             272750.0 │ 西門         │ 買在商圈 │ 萬華區   │\n",
       "│ 西門町(商圈)           │             272750.0 │ 西門         │ 買在商圈 │ 萬華區   │\n",
       "│ 和平西路鳥鋪聚集區     │              87214.0 │ 龍山寺       │ 買在商圈 │ 萬華區   │\n",
       "│ 加蚋(商圈)             │              87214.0 │ 龍山寺       │ 吃在商圈 │ 萬華區   │\n",
       "│ 艋舺夜市(商圈)         │              87214.0 │ 龍山寺       │ 吃在商圈 │ 萬華區   │\n",
       "│ 艋舺(商圈)             │              87214.0 │ 龍山寺       │ 玩在商圈 │ 萬華區   │\n",
       "│ 萬華街區(商圈)         │              87214.0 │ 龍山寺       │ 吃在商圈 │ 萬華區   │\n",
       "├────────────────────────┴──────────────────────┴──────────────┴──────────┴──────────┤\n",
       "│ 159 rows (20 shown)                                                      5 columns │\n",
       "└────────────────────────────────────────────────────────────────────────────────────┘"
      ]
     },
     "execution_count": 3,
     "metadata": {},
     "output_type": "execute_result"
    }
   ],
   "source": [
    "con.sql(\"\"\"--sql\n",
    "    WITH nearest_stations AS (\n",
    "    SELECT \n",
    "        s.district,\n",
    "        s.case_name,\n",
    "        s.address,\n",
    "        s.monthly_rent,\n",
    "        s.area_ping,\n",
    "        m.station_id,\n",
    "        m.station_name,\n",
    "        MIN(\n",
    "            6371 * ACOS(\n",
    "                COS(RADIANS(s.latitude)) * COS(RADIANS(m.latitude)) *\n",
    "                COS(RADIANS(m.longitude) - RADIANS(s.longitude)) +\n",
    "                SIN(RADIANS(s.latitude)) * SIN(RADIANS(m.latitude))\n",
    "            )\n",
    "        ) AS nearest_distance_km\n",
    "    FROM Shop_Rental_Listing s\n",
    "    CROSS JOIN MRT_Station_Info m\n",
    "    GROUP BY s.district, s.case_name, s.address, s.monthly_rent, s.area_ping, m.station_id, m.station_name\n",
    "    HAVING nearest_distance_km <= 1\n",
    ")\n",
    "SELECT \n",
    "    mba.name , -- 商圈名稱\n",
    "    ROUND(AVG(ns.monthly_rent)) AS average_monthly_rent,\n",
    "    ns.station_name,\n",
    "    mba.tag ,\n",
    "    ns.district\n",
    "FROM nearest_stations ns\n",
    "JOIN MRT_Business_Area mba ON ns.station_id = mba.station_id -- 加入商圈數據\n",
    "GROUP BY mba.name, mba.tag, ns.station_name, ns.district\n",
    "ORDER BY ns.district, ns.station_name; \n",
    "\"\"\")"
   ]
  },
  {
   "cell_type": "code",
   "execution_count": 5,
   "metadata": {},
   "outputs": [
    {
     "data": {
      "text/plain": [
       "┌──────────────────────────┬──────────────┬───────────────────────┬───────────┬────────────┬─────────────┬─────────┬──────────────────────┬────────────┐\n",
       "│         address          │ monthly_rent │ monthly_rent_per_ping │ area_ping │ shop_floor │ total_floor │ deposit │         name         │   phone    │\n",
       "│         varchar          │    int64     │        double         │   int64   │  varchar   │    int64    │  int64  │       varchar        │  varchar   │\n",
       "├──────────────────────────┼──────────────┼───────────────────────┼───────────┼────────────┼─────────────┼─────────┼──────────────────────┼────────────┤\n",
       "│ 台北市士林區文林路       │        84000 │                4421.0 │        19 │ 1~2        │           3 │  168000 │ 曾先生               │ 0228839111 │\n",
       "│ 台北市士林區天母東路     │       120000 │                2182.0 │        55 │ 1~2        │           5 │  240000 │ 侯沛昌               │ 0227721010 │\n",
       "│ 台北市大安區敦化南路一段 │       470000 │                4947.0 │        95 │ 1          │          23 │  940000 │ 松信不動產           │ 0225471133 │\n",
       "│ 台北市大安區建國南路二段 │       180000 │                3103.0 │        58 │ 1          │           7 │  360000 │ 劉伊恩               │ 0289786635 │\n",
       "│ 台北市南港區永吉路       │       250000 │                5102.0 │        49 │ 1          │          22 │  500000 │ 松信不動產           │ 0225471133 │\n",
       "│ 台北市大同區重慶北路三段 │        66000 │                1650.0 │        40 │ 1          │           4 │  132000 │ 【格瑞租屋】1-陳先生 │ 0932148474 │\n",
       "│ 台北市松山區復興南路一段 │        70000 │                4375.0 │        16 │ 1          │           1 │       0 │ 吳貴鳳               │ 0277557196 │\n",
       "│ 台北市大安區忠孝東路四段 │       650000 │                7143.0 │        91 │ 1          │           7 │ 1300000 │ 松信不動產           │ 0225471133 │\n",
       "│ 台北市信義區忠孝東路五段 │        90000 │                4737.0 │        19 │ 1          │          21 │  180000 │ 松信不動產           │ 0225471133 │\n",
       "│ 台北市內湖區行善路       │       165911 │                1580.0 │       105 │ 1          │           6 │  331822 │ 鄭亦倫               │ 0289788691 │\n",
       "│         ·                │          ·   │                   ·   │         · │ ·          │           · │     ·   │  ·                   │  ·         │\n",
       "│         ·                │          ·   │                   ·   │         · │ ·          │           · │     ·   │  ·                   │  ·         │\n",
       "│         ·                │          ·   │                   ·   │         · │ ·          │           · │     ·   │  ·                   │  ·         │\n",
       "│ 台北市大安區忠孝東路三段 │       150000 │                2542.0 │        59 │ 1          │           6 │  300000 │ NULL                 │ NULL       │\n",
       "│ 台北市士林區中山北路五段 │       230000 │                1533.0 │       150 │ 1~3        │           3 │    NULL │ NULL                 │ NULL       │\n",
       "│ 台北市士林區忠義街       │        78000 │                1733.0 │        45 │ 1          │           7 │  156000 │ NULL                 │ NULL       │\n",
       "│ 台北市文山區木柵路一段   │        28000 │                2154.0 │        13 │ 1          │           4 │   56000 │ NULL                 │ NULL       │\n",
       "│ 台北市士林區中山北路五段 │        86000 │                2529.0 │        34 │ 1          │           2 │  172000 │ NULL                 │ NULL       │\n",
       "│ 台北市南港區永吉路       │       280000 │                5714.0 │        49 │ 1          │          23 │  560000 │ NULL                 │ NULL       │\n",
       "│ 台北市中正區林森南路     │        55000 │                2500.0 │        22 │ 1          │           7 │  110000 │ NULL                 │ NULL       │\n",
       "│ 台北市內湖區成功路四段   │       180000 │                4500.0 │        40 │ 1          │          15 │       0 │ NULL                 │ NULL       │\n",
       "│ 台北市信義區虎林街       │        53800 │                1196.0 │        45 │ B1~1       │           5 │  107600 │ NULL                 │ NULL       │\n",
       "│ 台北市文山區木柵路三段   │        70000 │                3043.0 │        23 │ 1          │           2 │  140000 │ NULL                 │ NULL       │\n",
       "├──────────────────────────┴──────────────┴───────────────────────┴───────────┴────────────┴─────────────┴─────────┴──────────────────────┴────────────┤\n",
       "│ 650 rows (20 shown)                                                                                                                        9 columns │\n",
       "└──────────────────────────────────────────────────────────────────────────────────────────────────────────────────────────────────────────────────────┘"
      ]
     },
     "execution_count": 5,
     "metadata": {},
     "output_type": "execute_result"
    }
   ],
   "source": [
    "con.sql(\"\"\"--sql\n",
    "    SELECT s.address, s.monthly_rent, ROUND(s.monthly_rent/area_ping) as monthly_rent_per_ping, s.area_ping, s.shop_floor, s.total_floor,\n",
    "           s.deposit, r.name, r.phone\n",
    "    FROM Shop_Rental_Listing s\n",
    "    LEFT JOIN Representative r ON s.phone = r.phone\n",
    "    --WHERE r.name IS NULL\n",
    "\"\"\")"
   ]
  },
  {
   "cell_type": "markdown",
   "metadata": {},
   "source": [
    "## 店面資料與所在商圈及鄰近捷運站"
   ]
  },
  {
   "cell_type": "code",
   "execution_count": null,
   "metadata": {},
   "outputs": [
    {
     "data": {
      "text/plain": [
       "┌──────────┬─────────┬──────────────────────────┬───────────────────────────────────────────┬────────────┬──────────────┬──────────────┬───────────┬──────────────────────┬──────────┐\n",
       "│ district │ village │         address          │                 case_name                 │ station_id │ station_name │ monthly_rent │ area_ping │         name         │   tag    │\n",
       "│ varchar  │ varchar │         varchar          │                  varchar                  │  varchar   │   varchar    │    int64     │   int64   │       varchar        │ varchar  │\n",
       "├──────────┼─────────┼──────────────────────────┼───────────────────────────────────────────┼────────────┼──────────────┼──────────────┼───────────┼──────────────────────┼──────────┤\n",
       "│ 南港區   │ 三重里  │ 台北市南港區經貿二路     │ ✯經貿聯合廣場-南港軟體園區站旁商業金店面✯ │ BR23       │ 南港軟體園區 │       648000 │       121 │ 中國信託金融園區     │ 玩在商圈 │\n",
       "│ 南港區   │ 三重里  │ 台北市南港區經貿二路     │ 經貿園區挑高金店面                        │ BR23       │ 南港軟體園區 │       110000 │        44 │ 中國信託金融園區     │ 玩在商圈 │\n",
       "│ 南港區   │ 三重里  │ 台北市南港區經貿二路     │ 經貿園區挑高金店面                        │ BR22       │ 東湖         │       110000 │        44 │ 東湖哈拉影城周邊     │ 玩在商圈 │\n",
       "│ 南港區   │ 三重里  │ 台北市南港區經貿二路     │ ✯經貿聯合廣場-南港軟體園區站旁商業金店面✯ │ BR22       │ 東湖         │       648000 │       121 │ 東湖哈拉影城周邊     │ 玩在商圈 │\n",
       "│ 南港區   │ 中南里  │ 台北市南港區忠孝東路七段 │ 忠孝東路七段 研究院路 市民大道 優質店面   │ BR23       │ 南港軟體園區 │        98000 │        48 │ 中國信託金融園區     │ 玩在商圈 │\n",
       "│ 南港區   │ 中南里  │ 台北市南港區忠孝東路七段 │ 忠孝東路七段 研究院路 市民大道 優質店面   │ BL22       │ 南港         │        98000 │        48 │ 南港車站CITYLINK周邊 │ 玩在商圈 │\n",
       "│ 中山區   │ 中原里  │ 台北市中山區南京東路二段 │ 德運京鼎質感店面近雙捷運                  │ G15        │ 松江南京     │        70000 │        27 │ 四平陽光(商圈)       │ 買在商圈 │\n",
       "│ 中山區   │ 中原里  │ 台北市中山區南京東路二段 │ 德運京鼎質感店面近雙捷運                  │ O08        │ 松江南京     │        70000 │        27 │ 四平陽光(商圈)       │ 買在商圈 │\n",
       "│ 中山區   │ 中原里  │ 台北市中山區長春路       │ 車水馬龍金店面                            │ G15        │ 松江南京     │        53000 │        28 │ 四平陽光(商圈)       │ 買在商圈 │\n",
       "│ 中山區   │ 中原里  │ 台北市中山區長春路       │ 車水馬龍金店面                            │ O08        │ 松江南京     │        53000 │        28 │ 四平陽光(商圈)       │ 買在商圈 │\n",
       "│   ·      │   ·     │         ·                │       ·                                   │  ·         │    ·         │          ·   │         · │       ·              │    ·     │\n",
       "│   ·      │   ·     │         ·                │       ·                                   │  ·         │    ·         │          ·   │         · │       ·              │    ·     │\n",
       "│   ·      │   ·     │         ·                │       ·                                   │  ·         │    ·         │          ·   │         · │       ·              │    ·     │\n",
       "│ 中正區   │ 龍福里  │ 台北市中正區羅斯福路一段 │ J餐飲業首選，近愛國東路、潮州街。         │ G10        │ 中正紀念堂   │       400000 │       144 │ 愛國東路婚紗(商圈)   │ 買在商圈 │\n",
       "│ 中正區   │ 龍福里  │ 台北市中正區羅斯福路一段 │ J餐飲業首選，近愛國東路、潮州街。         │ G10        │ 中正紀念堂   │       400000 │       144 │ 南昌家具(商圈)       │ 玩在商圈 │\n",
       "│ 中正區   │ 龍福里  │ 台北市中正區羅斯福路一段 │ J餐飲業首選，近愛國東路、潮州街。         │ O05        │ 古亭         │       400000 │       144 │ 南昌家具(商圈)       │ 玩在商圈 │\n",
       "│ 中正區   │ 龍福里  │ 台北市中正區羅斯福路一段 │ J餐飲業首選，近愛國東路、潮州街。         │ G09        │ 古亭         │       400000 │       144 │ 南昌家具(商圈)       │ 玩在商圈 │\n",
       "│ 大安區   │ 龍門里  │ 台北市大安區和平東路二段 │ 面大安森林店面 │ 近大安森林捷運           │ G08        │ 台電大樓     │       125000 │        21 │ 龍泉(商圈)           │ 玩在商圈 │\n",
       "│ 大安區   │ 龍門里  │ 台北市大安區和平東路     │ A05-森林公園精緻店面                      │ R05        │ 大安         │        39500 │         6 │ 建國南路藝品古玩     │ 買在商圈 │\n",
       "│ 大安區   │ 龍門里  │ 台北市大安區和平東路     │ A05-森林公園精緻店面                      │ BR09       │ 大安         │        39500 │         6 │ 建國南路藝品古玩     │ 買在商圈 │\n",
       "│ 大安區   │ 龍雲里  │ 台北市大安區大安路二段   │ 大安站~大安國中旁大面寬三角窗             │ BR09       │ 大安         │       158000 │        67 │ 建國南路藝品古玩     │ 買在商圈 │\n",
       "│ 大安區   │ 龍雲里  │ 台北市大安區大安路二段   │ 大安站~大安國中旁大面寬三角窗             │ R05        │ 大安         │       158000 │        67 │ 建國南路藝品古玩     │ 買在商圈 │\n",
       "│ 大安區   │ 龍雲里  │ 台北市大安區大安路二段   │ 大安站~大安國中旁大面寬三角窗             │ R04        │ 信義安和     │       158000 │        67 │ 文昌家具(商圈)       │ 玩在商圈 │\n",
       "├──────────┴─────────┴──────────────────────────┴───────────────────────────────────────────┴────────────┴──────────────┴──────────────┴───────────┴──────────────────────┴──────────┤\n",
       "│ 2974 rows (20 shown)                                                                                                                                                    10 columns │\n",
       "└────────────────────────────────────────────────────────────────────────────────────────────────────────────────────────────────────────────────────────────────────────────────────┘"
      ]
     },
     "execution_count": 18,
     "metadata": {},
     "output_type": "execute_result"
    }
   ],
   "source": [
    "con.sql(\"\"\"--sql\n",
    "    WITH distances AS (\n",
    "    SELECT\n",
    "        s.district,\n",
    "        s.village,\n",
    "        s.case_name,\n",
    "        s.monthly_rent,\n",
    "        s.area_ping,\n",
    "        s.address,\n",
    "        m.station_id,\n",
    "        m.station_name,\n",
    "        (\n",
    "            6371 * ACOS(\n",
    "                COS(RADIANS(s.latitude)) * COS(RADIANS(m.latitude)) *\n",
    "                COS(RADIANS(m.longitude) - RADIANS(s.longitude)) +\n",
    "                SIN(RADIANS(s.latitude)) * SIN(RADIANS(m.latitude))\n",
    "            )\n",
    "        ) AS distance_km\n",
    "    FROM Shop_Rental_Listing s\n",
    "    CROSS JOIN MRT_Station_Info m\n",
    "),\n",
    "nearest_stations AS (\n",
    "    SELECT \n",
    "        d.district,\n",
    "        d.case_name,\n",
    "        d.address,\n",
    "        d.village,\n",
    "        d.station_id,\n",
    "        d.station_name,\n",
    "        d.monthly_rent,\n",
    "        d.area_ping,\n",
    "        MIN(d.distance_km) AS nearest_distance_km\n",
    "    FROM distances d\n",
    "    GROUP BY d.district, d.case_name, d.address, d.village, d.station_id, d.station_name, d.monthly_rent, d.area_ping\n",
    "    HAVING MIN(d.distance_km) <= 1\n",
    ")\n",
    "SELECT \n",
    "    ns.district,\n",
    "    ns.village,\n",
    "    ns.address,\n",
    "    ns.case_name,\n",
    "    ns.station_id,\n",
    "    ns.station_name,\n",
    "    ns.monthly_rent,\n",
    "    ns.area_ping,\n",
    "    mba.name, -- 商圈名稱\n",
    "    mba.tag\n",
    "FROM nearest_stations ns\n",
    "JOIN MRT_Business_Area mba ON ns.station_id = mba.station_id -- 加入商圈數據\n",
    "ORDER BY ns.village, ns.nearest_distance_km ASC;\n",
    "\"\"\")"
   ]
  },
  {
   "cell_type": "markdown",
   "metadata": {},
   "source": [
    "## 店面附近捷運站近兩年平均人流"
   ]
  },
  {
   "cell_type": "code",
   "execution_count": 7,
   "metadata": {},
   "outputs": [
    {
     "data": {
      "text/plain": [
       "┌──────────┬──────────────────────┬─────────┬────────────┬──────────────┬─────────────────────┬─────────────┬──────────┐\n",
       "│ district │      case_name       │ village │ station_id │ station_name │ nearest_distance_km │ time_period │ avg_flow │\n",
       "│ varchar  │       varchar        │ varchar │  varchar   │   varchar    │       double        │    int64    │  double  │\n",
       "├──────────┼──────────────────────┼─────────┼────────────┼──────────────┼─────────────────────┼─────────────┼──────────┤\n",
       "│ 北投區   │ 全新黃金店面Ｓ６     │ 一德里  │ R25        │ 關渡         │ 0.18402785721499842 │           0 │    112.0 │\n",
       "│ 北投區   │ 全新黃金店面Ｓ６     │ 一德里  │ R25        │ 關渡         │ 0.18402785721499842 │           1 │      8.0 │\n",
       "│ 北投區   │ 全新黃金店面Ｓ６     │ 一德里  │ R25        │ 關渡         │ 0.18402785721499842 │           6 │    411.0 │\n",
       "│ 北投區   │ 全新黃金店面Ｓ６     │ 一德里  │ R25        │ 關渡         │ 0.18402785721499842 │           7 │   1513.0 │\n",
       "│ 北投區   │ 全新黃金店面Ｓ６     │ 一德里  │ R25        │ 關渡         │ 0.18402785721499842 │           8 │   2516.0 │\n",
       "│ 北投區   │ 全新黃金店面Ｓ６     │ 一德里  │ R25        │ 關渡         │ 0.18402785721499842 │           9 │   1921.0 │\n",
       "│ 北投區   │ 全新黃金店面Ｓ６     │ 一德里  │ R25        │ 關渡         │ 0.18402785721499842 │          10 │   1044.0 │\n",
       "│ 北投區   │ 全新黃金店面Ｓ６     │ 一德里  │ R25        │ 關渡         │ 0.18402785721499842 │          11 │   1023.0 │\n",
       "│ 北投區   │ 全新黃金店面Ｓ６     │ 一德里  │ R25        │ 關渡         │ 0.18402785721499842 │          12 │   1134.0 │\n",
       "│ 北投區   │ 全新黃金店面Ｓ６     │ 一德里  │ R25        │ 關渡         │ 0.18402785721499842 │          13 │   1128.0 │\n",
       "│   ·      │        ·             │   ·     │  ·         │  ·           │          ·          │           · │      ·   │\n",
       "│   ·      │        ·             │   ·     │  ·         │  ·           │          ·          │           · │      ·   │\n",
       "│   ·      │        ·             │   ·     │  ·         │  ·           │          ·          │           · │      ·   │\n",
       "│ 信義區   │ 近永春捷運站優質店面 │ 富台里  │ BL19       │ 永春         │ 0.06819137096213587 │          14 │   1635.0 │\n",
       "│ 信義區   │ 近永春捷運站優質店面 │ 富台里  │ BL19       │ 永春         │ 0.06819137096213587 │          15 │   1752.0 │\n",
       "│ 信義區   │ 近永春捷運站優質店面 │ 富台里  │ BL19       │ 永春         │ 0.06819137096213587 │          16 │   2495.0 │\n",
       "│ 信義區   │ 近永春捷運站優質店面 │ 富台里  │ BL19       │ 永春         │ 0.06819137096213587 │          17 │   3366.0 │\n",
       "│ 信義區   │ 近永春捷運站優質店面 │ 富台里  │ BL19       │ 永春         │ 0.06819137096213587 │          18 │   4114.0 │\n",
       "│ 信義區   │ 近永春捷運站優質店面 │ 富台里  │ BL19       │ 永春         │ 0.06819137096213587 │          19 │   2731.0 │\n",
       "│ 信義區   │ 近永春捷運站優質店面 │ 富台里  │ BL19       │ 永春         │ 0.06819137096213587 │          20 │   1785.0 │\n",
       "│ 信義區   │ 近永春捷運站優質店面 │ 富台里  │ BL19       │ 永春         │ 0.06819137096213587 │          21 │   1726.0 │\n",
       "│ 信義區   │ 近永春捷運站優質店面 │ 富台里  │ BL19       │ 永春         │ 0.06819137096213587 │          22 │   1253.0 │\n",
       "│ 信義區   │ 近永春捷運站優質店面 │ 富台里  │ BL19       │ 永春         │ 0.06819137096213587 │          23 │    555.0 │\n",
       "├──────────┴──────────────────────┴─────────┴────────────┴──────────────┴─────────────────────┴─────────────┴──────────┤\n",
       "│ ? rows (>9999 rows, 20 shown)                                                                              8 columns │\n",
       "└──────────────────────────────────────────────────────────────────────────────────────────────────────────────────────┘"
      ]
     },
     "execution_count": 7,
     "metadata": {},
     "output_type": "execute_result"
    }
   ],
   "source": [
    "con.sql(\"\"\"--sql\n",
    "    WITH distances AS (\n",
    "    SELECT\n",
    "        s.district,\n",
    "        s.village,\n",
    "        s.case_name,\n",
    "        m.station_id,\n",
    "        m.station_name,\n",
    "        (\n",
    "            6371 * ACOS(\n",
    "                COS(RADIANS(s.latitude)) * COS(RADIANS(m.latitude)) *\n",
    "                COS(RADIANS(m.longitude) - RADIANS(s.longitude)) +\n",
    "                SIN(RADIANS(s.latitude)) * SIN(RADIANS(m.latitude))\n",
    "            )\n",
    "        ) AS distance_km\n",
    "    FROM Shop_Rental_Listing s\n",
    "    CROSS JOIN MRT_Station_Info m\n",
    "),\n",
    "flow_data AS (\n",
    "    SELECT\n",
    "        mf.time_period,\n",
    "        mf.station_id, \n",
    "        mi.station_name, \n",
    "        ROUND(AVG(mf.entrance_count + mf.exit_count)) AS avg_flow\n",
    "    FROM MRT_Flow_Record mf\n",
    "    LEFT JOIN MRT_Station_Info mi ON mf.station_id = mi.station_id\n",
    "    WHERE mf.date >= CURRENT_DATE - INTERVAL '2 years' -- 限制為最近兩年\n",
    "    AND mf.time_period NOT BETWEEN 2 AND 5 -- 過濾時段\n",
    "    GROUP BY mf.station_id, mi.station_name, mf.time_period \n",
    "),\n",
    "nearest_stations AS (\n",
    "    SELECT \n",
    "        d.district,\n",
    "        d.case_name,\n",
    "        d.village,\n",
    "        d.station_id,\n",
    "        d.station_name,\n",
    "        MIN(d.distance_km) AS nearest_distance_km\n",
    "    FROM distances d\n",
    "    GROUP BY d.district, d.case_name, d.village, d.station_id, d.station_name\n",
    "    HAVING MIN(d.distance_km) <= 1\n",
    ")\n",
    "SELECT \n",
    "    ns.district,\n",
    "    ns.case_name,\n",
    "    ns.village,\n",
    "    ns.station_id,\n",
    "    ns.station_name,\n",
    "    ns.nearest_distance_km,\n",
    "    fd.time_period,\n",
    "    fd.avg_flow\n",
    "FROM nearest_stations ns\n",
    "JOIN flow_data fd ON ns.station_id = fd.station_id\n",
    "ORDER BY ns.village, ns.nearest_distance_km, fd.time_period ASC;    \n",
    "\"\"\")"
   ]
  },
  {
   "cell_type": "markdown",
   "metadata": {},
   "source": [
    "## 店面附近 Ubike 近兩年平均人流"
   ]
  },
  {
   "cell_type": "code",
   "execution_count": 48,
   "metadata": {},
   "outputs": [
    {
     "data": {
      "text/plain": [
       "┌──────────┬────────────────────┬─────────┬────────────┬─────────────────────┬─────────────────────┬─────────────┬──────────┐\n",
       "│ district │     case_name      │ village │ station_id │    station_name     │ nearest_distance_km │ time_period │ avg_flow │\n",
       "│ varchar  │      varchar       │ varchar │   int64    │       varchar       │       double        │    int64    │  double  │\n",
       "├──────────┼────────────────────┼─────────┼────────────┼─────────────────────┼─────────────────────┼─────────────┼──────────┤\n",
       "│ 北投區   │ 全新黃金店面Ｓ６   │ 一德里  │  500109011 │ 捷運關渡站(1號出口) │ 0.15240317944583845 │           0 │     11.0 │\n",
       "│ 北投區   │ 全新黃金店面Ｓ６   │ 一德里  │  500109011 │ 捷運關渡站(1號出口) │ 0.15240317944583845 │           1 │      7.0 │\n",
       "│ 北投區   │ 全新黃金店面Ｓ６   │ 一德里  │  500109011 │ 捷運關渡站(1號出口) │ 0.15240317944583845 │           2 │      6.0 │\n",
       "│ 北投區   │ 全新黃金店面Ｓ６   │ 一德里  │  500109011 │ 捷運關渡站(1號出口) │ 0.15240317944583845 │           3 │      6.0 │\n",
       "│ 北投區   │ 全新黃金店面Ｓ６   │ 一德里  │  500109011 │ 捷運關渡站(1號出口) │ 0.15240317944583845 │           4 │      6.0 │\n",
       "│ 北投區   │ 全新黃金店面Ｓ６   │ 一德里  │  500109011 │ 捷運關渡站(1號出口) │ 0.15240317944583845 │           5 │      7.0 │\n",
       "│ 北投區   │ 全新黃金店面Ｓ６   │ 一德里  │  500109011 │ 捷運關渡站(1號出口) │ 0.15240317944583845 │           6 │      8.0 │\n",
       "│ 北投區   │ 全新黃金店面Ｓ６   │ 一德里  │  500109011 │ 捷運關渡站(1號出口) │ 0.15240317944583845 │           7 │      8.0 │\n",
       "│ 北投區   │ 全新黃金店面Ｓ６   │ 一德里  │  500109011 │ 捷運關渡站(1號出口) │ 0.15240317944583845 │           8 │     10.0 │\n",
       "│ 北投區   │ 全新黃金店面Ｓ６   │ 一德里  │  500109011 │ 捷運關渡站(1號出口) │ 0.15240317944583845 │           9 │     12.0 │\n",
       "│   ·      │        ·           │   ·     │      ·     │      ·              │           ·         │           · │       ·  │\n",
       "│   ·      │        ·           │   ·     │      ·     │      ·              │           ·         │           · │       ·  │\n",
       "│   ·      │        ·           │   ·     │      ·     │      ·              │           ·         │           · │       ·  │\n",
       "│ 中山區   │ ★國賓藝術優質店面★ │ 中山里  │  500107079 │ 新生錦州街口        │  0.4917730633012925 │          13 │      1.0 │\n",
       "│ 中山區   │ ★國賓藝術優質店面★ │ 中山里  │  500107079 │ 新生錦州街口        │  0.4917730633012925 │          14 │      2.0 │\n",
       "│ 中山區   │ ★國賓藝術優質店面★ │ 中山里  │  500107079 │ 新生錦州街口        │  0.4917730633012925 │          15 │      1.0 │\n",
       "│ 中山區   │ ★國賓藝術優質店面★ │ 中山里  │  500107079 │ 新生錦州街口        │  0.4917730633012925 │          16 │      1.0 │\n",
       "│ 中山區   │ ★國賓藝術優質店面★ │ 中山里  │  500107079 │ 新生錦州街口        │  0.4917730633012925 │          17 │      1.0 │\n",
       "│ 中山區   │ ★國賓藝術優質店面★ │ 中山里  │  500107079 │ 新生錦州街口        │  0.4917730633012925 │          22 │      1.0 │\n",
       "│ 中山區   │ ★國賓藝術優質店面★ │ 中山里  │  500107079 │ 新生錦州街口        │  0.4917730633012925 │          23 │      1.0 │\n",
       "│ 中山區   │ ★國賓藝術優質店面★ │ 中山里  │  500107074 │ 中原民生路口        │ 0.49599141547459846 │           0 │      2.0 │\n",
       "│ 中山區   │ ★國賓藝術優質店面★ │ 中山里  │  500107074 │ 中原民生路口        │ 0.49599141547459846 │           1 │      2.0 │\n",
       "│ 中山區   │ ★國賓藝術優質店面★ │ 中山里  │  500107074 │ 中原民生路口        │ 0.49599141547459846 │           2 │      2.0 │\n",
       "├──────────┴────────────────────┴─────────┴────────────┴─────────────────────┴─────────────────────┴─────────────┴──────────┤\n",
       "│ ? rows (>9999 rows, 20 shown)                                                                                   8 columns │\n",
       "└───────────────────────────────────────────────────────────────────────────────────────────────────────────────────────────┘"
      ]
     },
     "execution_count": 48,
     "metadata": {},
     "output_type": "execute_result"
    }
   ],
   "source": [
    "con.sql(\"\"\"--sql\n",
    "    WITH distances AS (\n",
    "    SELECT\n",
    "        s.district,\n",
    "        s.village,\n",
    "        s.case_name,\n",
    "        m.station_id,\n",
    "        m.station_name,\n",
    "        (\n",
    "            6371 * ACOS(\n",
    "                COS(RADIANS(s.latitude)) * COS(RADIANS(m.latitude)) *\n",
    "                COS(RADIANS(m.longitude) - RADIANS(s.longitude)) +\n",
    "                SIN(RADIANS(s.latitude)) * SIN(RADIANS(m.latitude))\n",
    "            )\n",
    "        ) AS distance_km\n",
    "    FROM Shop_Rental_Listing s\n",
    "    CROSS JOIN Ubike_Station_Info m\n",
    "),\n",
    "flow_data AS (\n",
    "    SELECT\n",
    "        mf.time_period,\n",
    "        mf.station_id, \n",
    "        mi.station_name, \n",
    "        ROUND(AVG(mf.rent_count + mf.return_count)) AS avg_flow\n",
    "    FROM Ubike_Station_Rental_Record mf\n",
    "    LEFT JOIN Ubike_Station_Info mi ON mf.station_id = mi.station_id\n",
    "    WHERE mf.date >= CURRENT_DATE - INTERVAL '2 years' -- 限制為最近兩年\n",
    "    GROUP BY mf.station_id, mi.station_name, mf.time_period \n",
    "),\n",
    "nearest_stations AS (\n",
    "    SELECT \n",
    "        d.district,\n",
    "        d.case_name,\n",
    "        d.village,\n",
    "        d.station_id,\n",
    "        d.station_name,\n",
    "        MIN(d.distance_km) AS nearest_distance_km\n",
    "    FROM distances d\n",
    "    GROUP BY d.district, d.case_name, d.village, d.station_id, d.station_name\n",
    "    HAVING MIN(d.distance_km) <= 1\n",
    ")\n",
    "SELECT \n",
    "    ns.district,\n",
    "    ns.case_name,\n",
    "    ns.village,\n",
    "    ns.station_id,\n",
    "    ns.station_name,\n",
    "    ns.nearest_distance_km,\n",
    "    fd.time_period,\n",
    "    fd.avg_flow\n",
    "FROM nearest_stations ns\n",
    "JOIN flow_data fd ON ns.station_id = fd.station_id\n",
    "ORDER BY ns.village, ns.nearest_distance_km, fd.time_period ASC;    \n",
    "\"\"\")"
   ]
  },
  {
   "cell_type": "markdown",
   "metadata": {},
   "source": [
    "## MRT 人流"
   ]
  },
  {
   "cell_type": "code",
   "execution_count": 30,
   "metadata": {},
   "outputs": [
    {
     "data": {
      "text/plain": [
       "┌────────────┬────────────┬─────────────┬──────────────┬────────────────────────────────┬───────────┬──────────┬────────┐\n",
       "│ station_id │    date    │ time_period │ station_name │            address             │ longitude │ latitude │  flow  │\n",
       "│  varchar   │    date    │    int64    │   varchar    │            varchar             │  double   │  double  │ int128 │\n",
       "├────────────┼────────────┼─────────────┼──────────────┼────────────────────────────────┼───────────┼──────────┼────────┤\n",
       "│ BL01       │ 2017-01-01 │           0 │ 頂埔         │ 新北市土城區中央路四段51-6號B3 │  121.4205 │ 24.96012 │    182 │\n",
       "│ BL01       │ 2017-01-01 │           1 │ 頂埔         │ 新北市土城區中央路四段51-6號B3 │  121.4205 │ 24.96012 │      9 │\n",
       "│ BL01       │ 2017-01-01 │           6 │ 頂埔         │ 新北市土城區中央路四段51-6號B3 │  121.4205 │ 24.96012 │    221 │\n",
       "│ BL01       │ 2017-01-01 │           7 │ 頂埔         │ 新北市土城區中央路四段51-6號B3 │  121.4205 │ 24.96012 │    395 │\n",
       "│ BL01       │ 2017-01-01 │           8 │ 頂埔         │ 新北市土城區中央路四段51-6號B3 │  121.4205 │ 24.96012 │    517 │\n",
       "│ BL01       │ 2017-01-01 │           9 │ 頂埔         │ 新北市土城區中央路四段51-6號B3 │  121.4205 │ 24.96012 │    513 │\n",
       "│ BL01       │ 2017-01-01 │          10 │ 頂埔         │ 新北市土城區中央路四段51-6號B3 │  121.4205 │ 24.96012 │    693 │\n",
       "│ BL01       │ 2017-01-01 │          11 │ 頂埔         │ 新北市土城區中央路四段51-6號B3 │  121.4205 │ 24.96012 │    704 │\n",
       "│ BL01       │ 2017-01-01 │          12 │ 頂埔         │ 新北市土城區中央路四段51-6號B3 │  121.4205 │ 24.96012 │    756 │\n",
       "│ BL01       │ 2017-01-01 │          13 │ 頂埔         │ 新北市土城區中央路四段51-6號B3 │  121.4205 │ 24.96012 │    736 │\n",
       "│  ·         │     ·      │           · │  ·           │               ·                │      ·    │     ·    │     ·  │\n",
       "│  ·         │     ·      │           · │  ·           │               ·                │      ·    │     ·    │     ·  │\n",
       "│  ·         │     ·      │           · │  ·           │               ·                │      ·    │     ·    │     ·  │\n",
       "│ BL01       │ 2018-05-15 │          14 │ 頂埔         │ 新北市土城區中央路四段51-6號B3 │  121.4205 │ 24.96012 │    435 │\n",
       "│ BL01       │ 2018-05-15 │          15 │ 頂埔         │ 新北市土城區中央路四段51-6號B3 │  121.4205 │ 24.96012 │    447 │\n",
       "│ BL01       │ 2018-05-15 │          16 │ 頂埔         │ 新北市土城區中央路四段51-6號B3 │  121.4205 │ 24.96012 │    573 │\n",
       "│ BL01       │ 2018-05-15 │          17 │ 頂埔         │ 新北市土城區中央路四段51-6號B3 │  121.4205 │ 24.96012 │   1061 │\n",
       "│ BL01       │ 2018-05-15 │          18 │ 頂埔         │ 新北市土城區中央路四段51-6號B3 │  121.4205 │ 24.96012 │   1854 │\n",
       "│ BL01       │ 2018-05-15 │          19 │ 頂埔         │ 新北市土城區中央路四段51-6號B3 │  121.4205 │ 24.96012 │   1494 │\n",
       "│ BL01       │ 2018-05-15 │          20 │ 頂埔         │ 新北市土城區中央路四段51-6號B3 │  121.4205 │ 24.96012 │    915 │\n",
       "│ BL01       │ 2018-05-15 │          21 │ 頂埔         │ 新北市土城區中央路四段51-6號B3 │  121.4205 │ 24.96012 │    760 │\n",
       "│ BL01       │ 2018-05-15 │          22 │ 頂埔         │ 新北市土城區中央路四段51-6號B3 │  121.4205 │ 24.96012 │    804 │\n",
       "│ BL01       │ 2018-05-15 │          23 │ 頂埔         │ 新北市土城區中央路四段51-6號B3 │  121.4205 │ 24.96012 │    307 │\n",
       "├────────────┴────────────┴─────────────┴──────────────┴────────────────────────────────┴───────────┴──────────┴────────┤\n",
       "│ ? rows (>9999 rows, 20 shown)                                                                               8 columns │\n",
       "└───────────────────────────────────────────────────────────────────────────────────────────────────────────────────────┘"
      ]
     },
     "execution_count": 30,
     "metadata": {},
     "output_type": "execute_result"
    }
   ],
   "source": [
    "con.sql(\"\"\"--sql\n",
    "    SELECT m.station_id, m.date, m.time_period, mi.station_name, mi.address, mi.longitude, mi.latitude, SUM(m.entrance_count + m.exit_count) as flow\n",
    "    FROM MRT_Flow_Record m\n",
    "    LEFT JOIN MRT_Station_Info mi ON m.station_id = mi.station_id\n",
    "    WHERE time_period NOT BETWEEN 2 AND 5\n",
    "    GROUP BY m.station_id, m.date, m.time_period, mi.station_name, mi.address, mi.longitude, mi.latitude\n",
    "    ORDER BY m.station_id ASC, m.date ASC, m.time_period ASC\n",
    "\"\"\")"
   ]
  },
  {
   "cell_type": "markdown",
   "metadata": {},
   "source": [
    "## UBike 人流"
   ]
  },
  {
   "cell_type": "code",
   "execution_count": 31,
   "metadata": {},
   "outputs": [
    {
     "data": {
      "text/plain": [
       "┌────────────┬────────────┬─────────────┬─────────────────────┬─────────────────────────────┬───────────┬──────────┬────────┐\n",
       "│ station_id │    date    │ time_period │    station_name     │           address           │ longitude │ latitude │  flow  │\n",
       "│   int64    │    date    │    int64    │       varchar       │           varchar           │  double   │  double  │ int128 │\n",
       "├────────────┼────────────┼─────────────┼─────────────────────┼─────────────────────────────┼───────────┼──────────┼────────┤\n",
       "│  500101001 │ 2022-12-31 │          16 │ 捷運科技大樓站      │ 大安區復興南路二段235號前   │  121.5436 │ 25.02605 │     13 │\n",
       "│  500101001 │ 2022-12-31 │          17 │ 捷運科技大樓站      │ 大安區復興南路二段235號前   │  121.5436 │ 25.02605 │      7 │\n",
       "│  500101001 │ 2022-12-31 │          18 │ 捷運科技大樓站      │ 大安區復興南路二段235號前   │  121.5436 │ 25.02605 │      3 │\n",
       "│  500101001 │ 2022-12-31 │          19 │ 捷運科技大樓站      │ 大安區復興南路二段235號前   │  121.5436 │ 25.02605 │      5 │\n",
       "│  500101001 │ 2022-12-31 │          20 │ 捷運科技大樓站      │ 大安區復興南路二段235號前   │  121.5436 │ 25.02605 │      9 │\n",
       "│  500101001 │ 2022-12-31 │          22 │ 捷運科技大樓站      │ 大安區復興南路二段235號前   │  121.5436 │ 25.02605 │      9 │\n",
       "│  500101001 │ 2022-12-31 │          23 │ 捷運科技大樓站      │ 大安區復興南路二段235號前   │  121.5436 │ 25.02605 │      6 │\n",
       "│  500101001 │ 2023-01-01 │           0 │ 捷運科技大樓站      │ 大安區復興南路二段235號前   │  121.5436 │ 25.02605 │      5 │\n",
       "│  500101001 │ 2023-01-01 │           1 │ 捷運科技大樓站      │ 大安區復興南路二段235號前   │  121.5436 │ 25.02605 │      6 │\n",
       "│  500101001 │ 2023-01-01 │           2 │ 捷運科技大樓站      │ 大安區復興南路二段235號前   │  121.5436 │ 25.02605 │     11 │\n",
       "│      ·     │     ·      │           · │       ·             │             ·               │      ·    │     ·    │      · │\n",
       "│      ·     │     ·      │           · │       ·             │             ·               │      ·    │     ·    │      · │\n",
       "│      ·     │     ·      │           · │       ·             │             ·               │      ·    │     ·    │      · │\n",
       "│  500101002 │ 2023-07-10 │          12 │ 復興南路二段273號前 │ 大安區復興南路二段273號西側 │ 121.54357 │ 25.02565 │      6 │\n",
       "│  500101002 │ 2023-07-10 │          13 │ 復興南路二段273號前 │ 大安區復興南路二段273號西側 │ 121.54357 │ 25.02565 │      3 │\n",
       "│  500101002 │ 2023-07-10 │          14 │ 復興南路二段273號前 │ 大安區復興南路二段273號西側 │ 121.54357 │ 25.02565 │      4 │\n",
       "│  500101002 │ 2023-07-10 │          16 │ 復興南路二段273號前 │ 大安區復興南路二段273號西側 │ 121.54357 │ 25.02565 │      1 │\n",
       "│  500101002 │ 2023-07-10 │          23 │ 復興南路二段273號前 │ 大安區復興南路二段273號西側 │ 121.54357 │ 25.02565 │      1 │\n",
       "│  500101002 │ 2023-07-11 │           0 │ 復興南路二段273號前 │ 大安區復興南路二段273號西側 │ 121.54357 │ 25.02565 │      9 │\n",
       "│  500101002 │ 2023-07-11 │           1 │ 復興南路二段273號前 │ 大安區復興南路二段273號西側 │ 121.54357 │ 25.02565 │      3 │\n",
       "│  500101002 │ 2023-07-11 │           2 │ 復興南路二段273號前 │ 大安區復興南路二段273號西側 │ 121.54357 │ 25.02565 │      2 │\n",
       "│  500101002 │ 2023-07-11 │           3 │ 復興南路二段273號前 │ 大安區復興南路二段273號西側 │ 121.54357 │ 25.02565 │      3 │\n",
       "│  500101002 │ 2023-07-11 │           4 │ 復興南路二段273號前 │ 大安區復興南路二段273號西側 │ 121.54357 │ 25.02565 │      1 │\n",
       "├────────────┴────────────┴─────────────┴─────────────────────┴─────────────────────────────┴───────────┴──────────┴────────┤\n",
       "│ ? rows (>9999 rows, 20 shown)                                                                                   8 columns │\n",
       "└───────────────────────────────────────────────────────────────────────────────────────────────────────────────────────────┘"
      ]
     },
     "execution_count": 31,
     "metadata": {},
     "output_type": "execute_result"
    }
   ],
   "source": [
    "con.sql(\"\"\"--sql\n",
    "    SELECT u.station_id, u.date, u.time_period, ui.station_name, ui.address, ui.longitude, ui.latitude, SUM(u.rent_count + u.return_count) as flow\n",
    "    FROM Ubike_Station_Rental_Record u\n",
    "    LEFT JOIN Ubike_Station_Info ui ON u.station_id = ui.station_id\n",
    "    GROUP BY u.station_id, u.date, u.time_period, ui.station_name, ui.address, ui.longitude, ui.latitude\n",
    "    ORDER BY u.station_id ASC, u.date ASC, u.time_period ASC\n",
    "\"\"\")"
   ]
  },
  {
   "cell_type": "markdown",
   "metadata": {},
   "source": [
    "## 村裡人口、年齡、性別"
   ]
  },
  {
   "cell_type": "code",
   "execution_count": 66,
   "metadata": {},
   "outputs": [
    {
     "data": {
      "text/plain": [
       "┌──────────┬─────────┬─────────────────┬────────────┬───────────────────┬───────────────┬──────────────────────┬───────────────────────┬─────────────────────────┬───────────────┬─────────────────┬─────────────────┬─────────────────┬───────────────────┬──────────────────┬────────────────────┬────────────────────┬────────────────────┬──────────────────────┐\n",
       "│ district │ village │ household_count │ avg_income │ nearby_avg_income │ median_income │ nearby_median_income │ male_population_ratio │ female_population_ratio │ avg_0_9_ratio │ avg_10_19_ratio │ avg_20_29_ratio │ avg_30_64_ratio │ avg_over_65_ratio │ nearby_0_9_ratio │ nearby_10_19_ratio │ nearby_20_29_ratio │ nearby_30_64_ratio │ nearby_over_65_ratio │\n",
       "│ varchar  │ varchar │      int64      │   int64    │      double       │     int64     │        double        │        double         │         double          │    double     │     double      │     double      │     double      │      double       │      double      │       double       │       double       │       double       │        double        │\n",
       "├──────────┼─────────┼─────────────────┼────────────┼───────────────────┼───────────────┼──────────────────────┼───────────────────────┼─────────────────────────┼───────────────┼─────────────────┼─────────────────┼─────────────────┼───────────────────┼──────────────────┼────────────────────┼────────────────────┼────────────────────┼──────────────────────┤\n",
       "│ 士林區   │ 仁勇里  │            1601 │     815000 │         1076118.0 │        486000 │             540647.0 │                0.4778 │                  0.5222 │        0.0636 │          0.0767 │          0.1032 │          0.5121 │            0.2443 │           0.0009 │             0.0011 │             0.0014 │             0.0071 │               0.0034 │\n",
       "│ 中正區   │ 南門里  │            1077 │    1792000 │         1256581.0 │        680000 │             673419.0 │                0.4643 │                  0.5357 │        0.1103 │          0.1362 │          0.0816 │          0.4483 │            0.2236 │            0.002 │             0.0025 │             0.0015 │             0.0083 │               0.0041 │\n",
       "│ 大同區   │ 大有里  │            1865 │     897000 │          883680.0 │        510000 │             499360.0 │                0.4788 │                  0.5212 │        0.0733 │          0.0797 │          0.0938 │          0.5148 │            0.2384 │           0.0027 │             0.0029 │             0.0034 │             0.0189 │               0.0088 │\n",
       "│ 大安區   │ 學府里  │             907 │     982000 │         1436792.0 │        562000 │             715434.0 │                0.4864 │                  0.5136 │        0.0794 │          0.0776 │          0.1092 │          0.4753 │            0.2586 │           0.0006 │             0.0006 │             0.0008 │             0.0037 │                0.002 │\n",
       "│ 士林區   │ 富光里  │            2203 │     670000 │         1076118.0 │        413000 │             540647.0 │                0.4835 │                  0.5165 │        0.0665 │          0.0835 │          0.1093 │          0.5269 │            0.2138 │           0.0015 │             0.0018 │             0.0024 │             0.0115 │               0.0047 │\n",
       "│ 北投區   │ 文林里  │            1820 │    1048000 │          946357.0 │        585000 │             534429.0 │                0.4762 │                  0.5238 │        0.0618 │          0.0927 │          0.0999 │          0.5062 │            0.2394 │           0.0011 │             0.0016 │             0.0018 │              0.009 │               0.0042 │\n",
       "│ 萬華區   │ 新起里  │            3418 │     968000 │          766944.0 │        533000 │             455500.0 │                0.4654 │                  0.5346 │        0.0553 │          0.0559 │          0.0959 │          0.5233 │            0.2696 │           0.0022 │             0.0022 │             0.0037 │             0.0204 │               0.0105 │\n",
       "│ 文山區   │ 明義里  │            1701 │     819000 │         1047535.0 │        414000 │             590372.0 │                0.4736 │                  0.5264 │        0.0718 │          0.1012 │          0.1467 │          0.5078 │            0.1725 │           0.0011 │             0.0016 │             0.0023 │             0.0078 │               0.0027 │\n",
       "│ 文山區   │ 景慶里  │            2543 │     890000 │         1047535.0 │        542000 │             590372.0 │                0.4668 │                  0.5332 │        0.0853 │          0.1022 │          0.0924 │          0.5026 │            0.2174 │           0.0021 │             0.0025 │             0.0023 │             0.0125 │               0.0054 │\n",
       "│ 文山區   │ 景美里  │            2160 │    1049000 │         1047535.0 │        628000 │             590372.0 │                0.4604 │                  0.5396 │        0.0908 │          0.1179 │          0.0869 │          0.4885 │            0.2159 │           0.0019 │             0.0024 │             0.0018 │               0.01 │               0.0044 │\n",
       "│   ·      │   ·     │              ·  │        ·   │             ·     │           ·   │                 ·    │                   ·   │                     ·   │           ·   │             ·   │             ·   │             ·   │               ·   │              ·   │                ·   │                ·   │                 ·  │                  ·   │\n",
       "│   ·      │   ·     │              ·  │        ·   │             ·     │           ·   │                 ·    │                   ·   │                     ·   │           ·   │             ·   │             ·   │             ·   │               ·   │              ·   │                ·   │                ·   │                 ·  │                  ·   │\n",
       "│   ·      │   ·     │              ·  │        ·   │             ·     │           ·   │                 ·    │                   ·   │                     ·   │           ·   │             ·   │             ·   │             ·   │               ·   │              ·   │                ·   │                ·   │                 ·  │                  ·   │\n",
       "│ 士林區   │ 永倫里  │            2812 │     687000 │         1076118.0 │        444000 │             540647.0 │                0.4969 │                  0.5031 │        0.0655 │          0.0567 │          0.1022 │          0.5351 │            0.2405 │           0.0016 │             0.0014 │             0.0026 │             0.0134 │                0.006 │\n",
       "│ 信義區   │ 永吉里  │            1429 │     792000 │         1038537.0 │        458000 │             556073.0 │                0.4955 │                  0.5045 │        0.0709 │          0.0634 │           0.097 │           0.552 │            0.2167 │           0.0013 │             0.0011 │             0.0017 │             0.0097 │               0.0038 │\n",
       "│ 內湖區   │ 清白里  │            3846 │    1500000 │         1114410.0 │        761000 │             618077.0 │                0.4609 │                  0.5391 │        0.0691 │          0.0794 │          0.1119 │          0.5418 │            0.1978 │           0.0021 │             0.0025 │             0.0035 │             0.0167 │               0.0061 │\n",
       "│ 內湖區   │ 港都里  │            2037 │    1167000 │         1114410.0 │        673000 │             618077.0 │                0.4753 │                  0.5247 │        0.1027 │          0.1089 │          0.0881 │          0.5176 │            0.1826 │            0.002 │             0.0021 │             0.0017 │             0.0101 │               0.0036 │\n",
       "│ 大安區   │ 臥龍里  │             863 │    1610000 │         1436792.0 │        760000 │             715434.0 │                0.4619 │                  0.5381 │        0.1296 │          0.1187 │          0.0763 │          0.4605 │            0.2149 │            0.001 │             0.0009 │             0.0006 │             0.0035 │               0.0016 │\n",
       "│ 大安區   │ 臨江里  │            1804 │     855000 │         1436792.0 │        508000 │             715434.0 │                0.4691 │                  0.5309 │         0.057 │          0.0742 │          0.1073 │          0.5271 │            0.2344 │           0.0008 │              0.001 │             0.0015 │             0.0072 │               0.0032 │\n",
       "│ 內湖區   │ 西安里  │            2580 │     999000 │         1114410.0 │        563000 │             618077.0 │                0.4735 │                  0.5265 │        0.0711 │          0.0693 │          0.0962 │          0.5218 │            0.2416 │           0.0016 │             0.0016 │             0.0022 │              0.012 │               0.0056 │\n",
       "│ 萬華區   │ 青山里  │            2928 │     796000 │          766944.0 │        457000 │             455500.0 │                0.4887 │                  0.5113 │        0.0428 │          0.0604 │          0.0866 │           0.557 │            0.2533 │           0.0014 │              0.002 │             0.0029 │             0.0185 │               0.0084 │\n",
       "│ 大安區   │ 龍坡里  │            2305 │    1477000 │         1436792.0 │        782000 │             715434.0 │                0.4682 │                  0.5318 │        0.0941 │          0.1237 │          0.0852 │          0.4575 │            0.2395 │           0.0019 │             0.0025 │             0.0017 │             0.0092 │               0.0048 │\n",
       "│ 大安區   │ 龍淵里  │            3486 │    1394000 │         1436792.0 │        802000 │             715434.0 │                0.4713 │                  0.5287 │        0.1151 │          0.1403 │          0.0852 │          0.4709 │            0.1885 │           0.0039 │             0.0047 │             0.0029 │             0.0158 │               0.0063 │\n",
       "├──────────┴─────────┴─────────────────┴────────────┴───────────────────┴───────────────┴──────────────────────┴───────────────────────┴─────────────────────────┴───────────────┴─────────────────┴─────────────────┴─────────────────┴───────────────────┴──────────────────┴────────────────────┴────────────────────┴────────────────────┴──────────────────────┤\n",
       "│ 456 rows (20 shown)                                                                                                                                                                                                                                                                                                                                    19 columns │\n",
       "└───────────────────────────────────────────────────────────────────────────────────────────────────────────────────────────────────────────────────────────────────────────────────────────────────────────────────────────────────────────────────────────────────────────────────────────────────────────────────────────────────────────────────────────────────┘"
      ]
     },
     "execution_count": 66,
     "metadata": {},
     "output_type": "execute_result"
    }
   ],
   "source": [
    "con.sql(\"\"\"--sql\n",
    "    SELECT vi.district, vi.village, vi.household_count, vi.avg_income,\n",
    "    ROUND(AVG(vi.avg_income) OVER (PARTITION BY vi.district)) AS nearby_avg_income, vi.median_income,\n",
    "    ROUND(AVG(vi.median_income) OVER (PARTITION BY vi.district)) AS nearby_median_income,\n",
    "    ROUND(vi.male_population * 1.0 / SUM(vi.male_population + vi.female_population) OVER (PARTITION BY vi.village), 4) AS male_population_ratio, \n",
    "    ROUND(vi.female_population * 1.0 / SUM(vi.male_population + vi.female_population) OVER (PARTITION BY vi.village), 4) AS female_population_ratio, \n",
    "    ROUND(v.age_0_9 * 1.0 / SUM(vi.male_population + vi.female_population) OVER (PARTITION BY vi.village), 4) AS avg_0_9_ratio, \n",
    "    ROUND(v.age_10_19 * 1.0 / SUM(vi.male_population + vi.female_population) OVER (PARTITION BY vi.village), 4) AS avg_10_19_ratio, \n",
    "    ROUND(v.age_20_29 * 1.0 / SUM(vi.male_population + vi.female_population) OVER (PARTITION BY vi.village), 4) AS avg_20_29_ratio, \n",
    "    ROUND(v.age_30_64 * 1.0 / SUM(vi.male_population + vi.female_population) OVER (PARTITION BY vi.village), 4) AS avg_30_64_ratio, \n",
    "    ROUND(v.age_over_65 * 1.0 / SUM(vi.male_population + vi.female_population) OVER (PARTITION BY vi.village), 4) AS avg_over_65_ratio,\n",
    "    ROUND(v.age_0_9 * 1.0 / SUM(vi.male_population + vi.female_population) OVER (PARTITION BY vi.district), 4) AS nearby_0_9_ratio, \n",
    "    ROUND(v.age_10_19 * 1.0 / SUM(vi.male_population + vi.female_population) OVER (PARTITION BY vi.district), 4) AS nearby_10_19_ratio, \n",
    "    ROUND(v.age_20_29 * 1.0 / SUM(vi.male_population + vi.female_population) OVER (PARTITION BY vi.district), 4) AS nearby_20_29_ratio, \n",
    "    ROUND(v.age_30_64 * 1.0 / SUM(vi.male_population + vi.female_population) OVER (PARTITION BY vi.district), 4) AS nearby_30_64_ratio, \n",
    "    ROUND(v.age_over_65 * 1.0 / SUM(vi.male_population + vi.female_population) OVER (PARTITION BY vi.district), 4) AS nearby_over_65_ratio \n",
    "    FROM Village_Info vi\n",
    "    LEFT JOIN Village_Population_By_Age v ON vi.district = v.district AND vi.village = v.village\n",
    "\"\"\")"
   ]
  },
  {
   "cell_type": "markdown",
   "metadata": {},
   "source": [
    "## 競爭市場"
   ]
  },
  {
   "cell_type": "code",
   "execution_count": 54,
   "metadata": {},
   "outputs": [
    {
     "data": {
      "text/plain": [
       "┌──────────┬─────────┬────────────────────────┬──────────────────────────────┬──────────┬─────────────┐\n",
       "│ district │ village │     business_type      │      business_sub_type       │ shop_cnt │ avg_capital │\n",
       "│ varchar  │ varchar │        varchar         │           varchar            │  int64   │   double    │\n",
       "├──────────┼─────────┼────────────────────────┼──────────────────────────────┼──────────┼─────────────┤\n",
       "│ 大安區   │ 光武里  │ 批發及零售業           │ 文教育樂用品零售業           │        2 │    150000.0 │\n",
       "│ 中山區   │ 中庄里  │ 營建工程業             │ 建物完工裝修工程業           │        3 │    130000.0 │\n",
       "│ 內湖區   │ 五分里  │ 住宿及餐飲業           │ 餐食業                       │       11 │    150727.0 │\n",
       "│ 中山區   │ 朱園里  │ 教育業                 │ 其他教育業                   │        2 │    150000.0 │\n",
       "│ 士林區   │ 福華里  │ 批發及零售業           │ 綜合商品零售業               │        1 │    100000.0 │\n",
       "│ 松山區   │ 精忠里  │ 批發及零售業           │ 布疋及服飾品批發業           │        1 │    200000.0 │\n",
       "│ 松山區   │ 精忠里  │ 批發及零售業           │ 文教育樂用品批發業           │        1 │    200000.0 │\n",
       "│ 中正區   │ 幸福里  │ 批發及零售業           │ 家用器具及用品零售業         │        3 │     67667.0 │\n",
       "│ 中正區   │ 文祥里  │ 批發及零售業           │ 其他專賣零售業               │        2 │    105000.0 │\n",
       "│ 中正區   │ 梅花里  │ 批發及零售業           │ 家用器具及用品零售業         │       17 │    210588.0 │\n",
       "│   ·      │   ·     │      ·                 │          ·                   │        · │        ·    │\n",
       "│   ·      │   ·     │      ·                 │          ·                   │        · │        ·    │\n",
       "│   ·      │   ·     │      ·                 │          ·                   │        · │        ·    │\n",
       "│ 文山區   │ 興旺里  │ 批發及零售業           │ 藥品、醫療用品及化粧品批發業 │        1 │    200000.0 │\n",
       "│ 文山區   │ 興旺里  │ 批發及零售業           │ 食品、飲料及菸草製品批發業   │        1 │    200000.0 │\n",
       "│ 中山區   │ 新福里  │ 批發及零售業           │ 布疋及服飾品批發業           │        4 │    175000.0 │\n",
       "│ 信義區   │ 興隆里  │ 營建工程業             │ 其他專門營造業               │        1 │    200000.0 │\n",
       "│ 松山區   │ 中崙里  │ 批發及零售業           │ 綜合商品批發業               │        3 │    173333.0 │\n",
       "│ 大安區   │ 群賢里  │ 批發及零售業           │ 綜合商品零售業               │        3 │    200000.0 │\n",
       "│ 北投區   │ 大同里  │ 其他服務業             │ 洗衣業                       │        1 │     10000.0 │\n",
       "│ 中山區   │ 正得里  │ 專業、科學及技術服務業 │ 其他專業、科學及技術服務業   │        4 │    150000.0 │\n",
       "│ 中山區   │ 康樂里  │ 批發及零售業           │ 建材批發業                   │        3 │    466667.0 │\n",
       "│ 萬華區   │ 西門里  │ 製造業                 │ 金屬加工處理業               │        1 │    100000.0 │\n",
       "├──────────┴─────────┴────────────────────────┴──────────────────────────────┴──────────┴─────────────┤\n",
       "│ ? rows (>9999 rows, 20 shown)                                                             6 columns │\n",
       "└─────────────────────────────────────────────────────────────────────────────────────────────────────┘"
      ]
     },
     "execution_count": 54,
     "metadata": {},
     "output_type": "execute_result"
    }
   ],
   "source": [
    "con.sql(\"\"\"--sql\n",
    "    SELECT district, village, business_type, business_sub_type, COUNT(business_name) as shop_cnt, ROUND(AVG(capital)) as avg_capital\n",
    "    FROM Business_Operation\n",
    "    GROUP BY district, village, business_type, business_sub_type\n",
    "\"\"\")"
   ]
  }
 ],
 "metadata": {
  "kernelspec": {
   "display_name": "Python 3",
   "language": "python",
   "name": "python3"
  },
  "language_info": {
   "codemirror_mode": {
    "name": "ipython",
    "version": 3
   },
   "file_extension": ".py",
   "mimetype": "text/x-python",
   "name": "python",
   "nbconvert_exporter": "python",
   "pygments_lexer": "ipython3",
   "version": "3.11.0"
  }
 },
 "nbformat": 4,
 "nbformat_minor": 2
}
